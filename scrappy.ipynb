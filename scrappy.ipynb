{
 "cells": [
  {
   "cell_type": "code",
   "execution_count": 11,
   "metadata": {},
   "outputs": [
    {
     "name": "stdout",
     "output_type": "stream",
     "text": [
      "3.76\n"
     ]
    }
   ],
   "source": [
    "import random\n",
    "\n",
    "random_float = round(random.uniform(3, 5), 2)\n",
    "print(random_float)\n"
   ]
  },
  {
   "cell_type": "code",
   "execution_count": 3,
   "metadata": {},
   "outputs": [
    {
     "name": "stdout",
     "output_type": "stream",
     "text": [
      "1: ✗\n",
      "2: ✗\n",
      "3: ✓\n",
      "\n"
     ]
    }
   ],
   "source": [
    "correct = True\n",
    "guesses = 2\n",
    "chars = [\"1\", \"2\", \"3\", \"4\", \"5\"]\n",
    "strtoshare = \"\"\n",
    "\n",
    "i = 0;\n",
    "for i in range(0,5):\n",
    "    if i < guesses:\n",
    "        strtoshare += f\"{chars[i]}: ✗\\n\"\n",
    "    else:\n",
    "        strtoshare += f\"{chars[i]}: ✓\\n\"\n",
    "        break\n",
    "\n",
    "print(strtoshare)"
   ]
  }
 ],
 "metadata": {
  "kernelspec": {
   "display_name": "venv",
   "language": "python",
   "name": "python3"
  },
  "language_info": {
   "codemirror_mode": {
    "name": "ipython",
    "version": 3
   },
   "file_extension": ".py",
   "mimetype": "text/x-python",
   "name": "python",
   "nbconvert_exporter": "python",
   "pygments_lexer": "ipython3",
   "version": "3.10.11"
  }
 },
 "nbformat": 4,
 "nbformat_minor": 2
}
